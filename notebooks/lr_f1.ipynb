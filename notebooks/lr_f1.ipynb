{
 "cells": [
  {
   "cell_type": "markdown",
   "metadata": {
    "toc": true
   },
   "source": [
    "<h1>Table of Contents<span class=\"tocSkip\"></span></h1>\n",
    "<div class=\"toc\"><ul class=\"toc-item\"><li><span><a href=\"#Import-required-libraries-and-datasets-and-write-user-defined-functions\" data-toc-modified-id=\"Import-required-libraries-and-datasets-and-write-user-defined-functions-1\"><span class=\"toc-item-num\">1&nbsp;&nbsp;</span>Import required libraries and datasets and write user-defined functions</a></span></li><li><span><a href=\"#Exploratory-Data-Analysis\" data-toc-modified-id=\"Exploratory-Data-Analysis-2\"><span class=\"toc-item-num\">2&nbsp;&nbsp;</span>Exploratory Data Analysis</a></span><ul class=\"toc-item\"><li><span><a href=\"#Department\" data-toc-modified-id=\"Department-2.1\"><span class=\"toc-item-num\">2.1&nbsp;&nbsp;</span>Department</a></span></li><li><span><a href=\"#Region\" data-toc-modified-id=\"Region-2.2\"><span class=\"toc-item-num\">2.2&nbsp;&nbsp;</span>Region</a></span></li><li><span><a href=\"#Education\" data-toc-modified-id=\"Education-2.3\"><span class=\"toc-item-num\">2.3&nbsp;&nbsp;</span>Education</a></span></li><li><span><a href=\"#Gender\" data-toc-modified-id=\"Gender-2.4\"><span class=\"toc-item-num\">2.4&nbsp;&nbsp;</span>Gender</a></span></li><li><span><a href=\"#Recruitment-Channel\" data-toc-modified-id=\"Recruitment-Channel-2.5\"><span class=\"toc-item-num\">2.5&nbsp;&nbsp;</span>Recruitment Channel</a></span></li><li><span><a href=\"#No-of-Trainings\" data-toc-modified-id=\"No-of-Trainings-2.6\"><span class=\"toc-item-num\">2.6&nbsp;&nbsp;</span>No of Trainings</a></span></li><li><span><a href=\"#Age\" data-toc-modified-id=\"Age-2.7\"><span class=\"toc-item-num\">2.7&nbsp;&nbsp;</span>Age</a></span></li><li><span><a href=\"#Previous-Year-Rating\" data-toc-modified-id=\"Previous-Year-Rating-2.8\"><span class=\"toc-item-num\">2.8&nbsp;&nbsp;</span>Previous Year Rating</a></span></li><li><span><a href=\"#Length-of-Service\" data-toc-modified-id=\"Length-of-Service-2.9\"><span class=\"toc-item-num\">2.9&nbsp;&nbsp;</span>Length of Service</a></span></li><li><span><a href=\"#KPIs-met-&gt;-80%?\" data-toc-modified-id=\"KPIs-met->-80%?-2.10\"><span class=\"toc-item-num\">2.10&nbsp;&nbsp;</span>KPIs met &gt; 80%?</a></span></li><li><span><a href=\"#Awards-Won\" data-toc-modified-id=\"Awards-Won-2.11\"><span class=\"toc-item-num\">2.11&nbsp;&nbsp;</span>Awards Won</a></span></li><li><span><a href=\"#Average-Training-Score\" data-toc-modified-id=\"Average-Training-Score-2.12\"><span class=\"toc-item-num\">2.12&nbsp;&nbsp;</span>Average Training Score</a></span></li></ul></li><li><span><a href=\"#Data-Manipulation\" data-toc-modified-id=\"Data-Manipulation-3\"><span class=\"toc-item-num\">3&nbsp;&nbsp;</span>Data Manipulation</a></span><ul class=\"toc-item\"><li><span><a href=\"#Dummify-categorical-variables\" data-toc-modified-id=\"Dummify-categorical-variables-3.1\"><span class=\"toc-item-num\">3.1&nbsp;&nbsp;</span>Dummify categorical variables</a></span></li><li><span><a href=\"#Divide-into-train-and-test\" data-toc-modified-id=\"Divide-into-train-and-test-3.2\"><span class=\"toc-item-num\">3.2&nbsp;&nbsp;</span>Divide into train and test</a></span></li><li><span><a href=\"#Scale-numerical-columns\" data-toc-modified-id=\"Scale-numerical-columns-3.3\"><span class=\"toc-item-num\">3.3&nbsp;&nbsp;</span>Scale numerical columns</a></span></li></ul></li><li><span><a href=\"#Modelling\" data-toc-modified-id=\"Modelling-4\"><span class=\"toc-item-num\">4&nbsp;&nbsp;</span>Modelling</a></span></li><li><span><a href=\"#Model-Evaluation\" data-toc-modified-id=\"Model-Evaluation-5\"><span class=\"toc-item-num\">5&nbsp;&nbsp;</span>Model Evaluation</a></span><ul class=\"toc-item\"><li><span><a href=\"#Accuracy-Score\" data-toc-modified-id=\"Accuracy-Score-5.1\"><span class=\"toc-item-num\">5.1&nbsp;&nbsp;</span>Accuracy Score</a></span></li><li><span><a href=\"#Classification-Report\" data-toc-modified-id=\"Classification-Report-5.2\"><span class=\"toc-item-num\">5.2&nbsp;&nbsp;</span>Classification Report</a></span></li><li><span><a href=\"#ROC-AUC\" data-toc-modified-id=\"ROC-AUC-5.3\"><span class=\"toc-item-num\">5.3&nbsp;&nbsp;</span>ROC-AUC</a></span></li><li><span><a href=\"#Confusion-Matrix\" data-toc-modified-id=\"Confusion-Matrix-5.4\"><span class=\"toc-item-num\">5.4&nbsp;&nbsp;</span>Confusion Matrix</a></span></li><li><span><a href=\"#Model-Scoring\" data-toc-modified-id=\"Model-Scoring-5.5\"><span class=\"toc-item-num\">5.5&nbsp;&nbsp;</span>Model Scoring</a></span></li></ul></li></ul></div>"
   ]
  },
  {
   "cell_type": "markdown",
   "metadata": {},
   "source": [
    "### Import required libraries and datasets and write user-defined functions"
   ]
  },
  {
   "cell_type": "code",
   "execution_count": 1,
   "metadata": {
    "ExecuteTime": {
     "end_time": "2018-09-15T05:40:31.029308Z",
     "start_time": "2018-09-15T05:40:29.509336Z"
    }
   },
   "outputs": [],
   "source": [
    "# Import required libraries\n",
    "import swifter\n",
    "import pandas as pd\n",
    "import numpy as np\n",
    "import seaborn as sns\n",
    "import matplotlib.pyplot as plt\n",
    "import distributed.joblib"
   ]
  },
  {
   "cell_type": "code",
   "execution_count": 2,
   "metadata": {
    "ExecuteTime": {
     "end_time": "2018-09-15T05:40:31.124346Z",
     "start_time": "2018-09-15T05:40:31.032845Z"
    }
   },
   "outputs": [],
   "source": [
    "# Selective imports\n",
    "from itertools import product\n",
    "from dask.distributed import Client\n",
    "from IPython.display import display_html, HTML\n",
    "from sklearn.metrics import roc_auc_score, roc_curve, accuracy_score, classification_report, confusion_matrix\n",
    "from sklearn.model_selection import train_test_split\n",
    "from sklearn.preprocessing import StandardScaler\n",
    "from sklearn.linear_model import LogisticRegression\n",
    "from sklearn.externals import joblib\n",
    "from sklearn.externals.joblib import parallel_backend\n",
    "from dask_searchcv import GridSearchCV\n",
    "from dask.diagnostics import ProgressBar"
   ]
  },
  {
   "cell_type": "code",
   "execution_count": 3,
   "metadata": {
    "ExecuteTime": {
     "end_time": "2018-09-15T05:40:35.027582Z",
     "start_time": "2018-09-15T05:40:31.128242Z"
    }
   },
   "outputs": [],
   "source": [
    "# Set up client and options\n",
    "%matplotlib inline\n",
    "client = Client()\n",
    "palette = sns.cubehelix_palette()"
   ]
  },
  {
   "cell_type": "code",
   "execution_count": 4,
   "metadata": {
    "ExecuteTime": {
     "end_time": "2018-09-15T05:40:35.047742Z",
     "start_time": "2018-09-15T05:40:35.032334Z"
    }
   },
   "outputs": [],
   "source": [
    "def plot_dist(df, var, target, dist='cat'):\n",
    "    '''Seaborn categorical plotting function facetting on target variable'''\n",
    "    if dist == 'cat':\n",
    "        plot = sns.catplot(x=var, col=target, data=df, palette=palette, kind='count')\n",
    "        plot.set_xticklabels(rotation=90);\n",
    "    elif dist == 'num':\n",
    "        plot = sns.boxplot(y=var, x=target, data=df, palette=palette)"
   ]
  },
  {
   "cell_type": "code",
   "execution_count": 5,
   "metadata": {
    "ExecuteTime": {
     "end_time": "2018-09-15T05:40:35.115190Z",
     "start_time": "2018-09-15T05:40:35.050987Z"
    }
   },
   "outputs": [],
   "source": [
    "def plot_confusion_matrix( cm, normalize=False, cmap=plt.cm.Accent):\n",
    "        '''\n",
    "        This function prints and plots the confusion matrix. Normalization can be applied by setting `normalize=True`.\n",
    "        '''\n",
    "        classes = [0, 1]\n",
    "\n",
    "        if normalize:\n",
    "            cm = cm.astype('float') / cm.sum(axis=1)[:, np.newaxis]\n",
    "            title = 'Confusion matrix with normalization'\n",
    "\n",
    "        else:\n",
    "            title = 'Confusion matrix without normalization'\n",
    "\n",
    "        plt.imshow(cm, interpolation='nearest', cmap=cmap)\n",
    "        plt.title(title)\n",
    "        plt.colorbar()\n",
    "        tick_marks = np.arange(len(classes))\n",
    "        plt.xticks(tick_marks, classes, rotation=45)\n",
    "        plt.yticks(tick_marks, classes)\n",
    "\n",
    "        fmt = '.2f' if normalize else 'd'\n",
    "        thresh = cm.max() / 2.\n",
    "        for i, j in product(range(cm.shape[0]), range(cm.shape[1])):\n",
    "            plt.text(j, i, format(cm[i, j], fmt),\n",
    "                     horizontalalignment=\"center\",\n",
    "                     color=\"white\" if cm[i, j] > thresh else \"black\")\n",
    "\n",
    "        plt.tight_layout()\n",
    "        plt.ylabel('True label')\n",
    "        plt.xlabel('Predicted label')"
   ]
  },
  {
   "cell_type": "code",
   "execution_count": 6,
   "metadata": {
    "ExecuteTime": {
     "end_time": "2018-09-15T05:40:35.184522Z",
     "start_time": "2018-09-15T05:40:35.120225Z"
    }
   },
   "outputs": [],
   "source": [
    "def roc_plot( fpr, tpr, fpr_tst, tpr_tst, *args):\n",
    "    '''\n",
    "    Generates roc plot\n",
    "    '''\n",
    "\n",
    "    fig = plt.plot(fpr, tpr, label='Train')\n",
    "    fig = plt.plot(fpr_tst, tpr_tst, label='Test')\n",
    "\n",
    "    if len(args) == 0:\n",
    "        plt.xlim([0.0, 1.0])\n",
    "        plt.ylim([0.0, 1.0])\n",
    "        plt.title(\"ROC curve using \")\n",
    "        plt.xlabel('False Positive Rate (1 - Specificity)')\n",
    "        plt.ylabel('True Positive Rate (Sensitivity)')\n",
    "        plt.legend(loc='lower right')\n",
    "        plt.grid(True)\n",
    "        plt.show()\n",
    "\n",
    "    else:\n",
    "        fig = plt.plot(args[0], args[1], label='Validation')\n",
    "        plt.xlim([0.0, 1.0])\n",
    "        plt.ylim([0.0, 1.0])\n",
    "        plt.title(\"ROC curve using \")\n",
    "        plt.xlabel('False Positive Rate (1 - Specificity)')\n",
    "        plt.ylabel('True Positive Rate (Sensitivity)')\n",
    "        plt.legend(loc='lower right')\n",
    "        plt.grid(True)\n",
    "        plt.show()"
   ]
  },
  {
   "cell_type": "code",
   "execution_count": 7,
   "metadata": {
    "ExecuteTime": {
     "end_time": "2018-09-15T05:40:35.235064Z",
     "start_time": "2018-09-15T05:40:35.188635Z"
    }
   },
   "outputs": [],
   "source": [
    "def plot_roc_curve( y_train_true, train_pred_prob, y_test_true, test_pred_prob, *args):\n",
    "    '''\n",
    "    Generates roc plot for train and test and superimposes them\n",
    "    '''\n",
    "\n",
    "    AUC_Train = roc_auc_score(y_train_true, train_pred_prob)\n",
    "    AUC_Test = roc_auc_score(y_test_true, test_pred_prob)\n",
    "\n",
    "    if len(args) == 0:\n",
    "        print(\"Train AUC = \", AUC_Train)\n",
    "        print(\"Test AUC = \", AUC_Test)\n",
    "        fpr, tpr, thresholds = roc_curve(y_train_true, train_pred_prob)\n",
    "        fpr_tst, tpr_tst, thresholds = roc_curve(\n",
    "            y_test_true, test_pred_prob)\n",
    "        roc_plot(fpr, tpr, fpr_tst, tpr_tst)\n",
    "\n",
    "    else:\n",
    "        AUC_Valid = roc_auc_score(args[0], args[1])\n",
    "        print(\"Train AUC = \", AUC_Train)\n",
    "        print(\"Test AUC = \", AUC_Test)\n",
    "        print(\"Validation AUC = \", AUC_Valid)\n",
    "        fpr, tpr, thresholds = roc_curve(y_train_true, train_pred_prob)\n",
    "        fpr_tst, tpr_tst, thresholds = roc_curve(\n",
    "            y_test_true, test_pred_prob)\n",
    "        fpr_val, tpr_val, thresholds = roc_curve(args[0], args[1])\n",
    "        roc_plot(fpr, tpr, fpr_tst, tpr_tst, fpr_val, tpr_val)"
   ]
  },
  {
   "cell_type": "code",
   "execution_count": 8,
   "metadata": {
    "ExecuteTime": {
     "end_time": "2018-09-15T05:40:35.464647Z",
     "start_time": "2018-09-15T05:40:35.239475Z"
    }
   },
   "outputs": [],
   "source": [
    "# Read the dataset\n",
    "df = pd.read_csv('../data/raw/train_LZdllcl.csv', low_memory=False, encoding='latin1')\n",
    "validation = pd.read_csv('../data/raw/test_2umaH9m.csv', low_memory=False, encoding='latin1')"
   ]
  },
  {
   "cell_type": "code",
   "execution_count": 9,
   "metadata": {
    "ExecuteTime": {
     "end_time": "2018-09-15T05:40:35.483366Z",
     "start_time": "2018-09-15T05:40:35.473178Z"
    }
   },
   "outputs": [
    {
     "name": "stdout",
     "output_type": "stream",
     "text": [
      "Shape of the training data is : (54808, 14)\n",
      "Shape of the validation data is : (23490, 13)\n"
     ]
    }
   ],
   "source": [
    "# Print the dimensions\n",
    "print('Shape of the training data is :', df.shape)\n",
    "print('Shape of the validation data is :', validation.shape)"
   ]
  },
  {
   "cell_type": "code",
   "execution_count": 10,
   "metadata": {
    "ExecuteTime": {
     "end_time": "2018-09-15T05:40:35.538481Z",
     "start_time": "2018-09-15T05:40:35.487972Z"
    }
   },
   "outputs": [
    {
     "name": "stdout",
     "output_type": "stream",
     "text": [
      "Head of the training data is :\n",
      "\n"
     ]
    },
    {
     "data": {
      "text/html": [
       "<div>\n",
       "<style scoped>\n",
       "    .dataframe tbody tr th:only-of-type {\n",
       "        vertical-align: middle;\n",
       "    }\n",
       "\n",
       "    .dataframe tbody tr th {\n",
       "        vertical-align: top;\n",
       "    }\n",
       "\n",
       "    .dataframe thead th {\n",
       "        text-align: right;\n",
       "    }\n",
       "</style>\n",
       "<table border=\"1\" class=\"dataframe\">\n",
       "  <thead>\n",
       "    <tr style=\"text-align: right;\">\n",
       "      <th></th>\n",
       "      <th>employee_id</th>\n",
       "      <th>department</th>\n",
       "      <th>region</th>\n",
       "      <th>education</th>\n",
       "      <th>gender</th>\n",
       "      <th>recruitment_channel</th>\n",
       "      <th>no_of_trainings</th>\n",
       "      <th>age</th>\n",
       "      <th>previous_year_rating</th>\n",
       "      <th>length_of_service</th>\n",
       "      <th>KPIs_met &gt;80%</th>\n",
       "      <th>awards_won?</th>\n",
       "      <th>avg_training_score</th>\n",
       "      <th>is_promoted</th>\n",
       "    </tr>\n",
       "  </thead>\n",
       "  <tbody>\n",
       "    <tr>\n",
       "      <th>0</th>\n",
       "      <td>65438</td>\n",
       "      <td>Sales &amp; Marketing</td>\n",
       "      <td>region_7</td>\n",
       "      <td>Master's &amp; above</td>\n",
       "      <td>f</td>\n",
       "      <td>sourcing</td>\n",
       "      <td>1</td>\n",
       "      <td>35</td>\n",
       "      <td>5.0</td>\n",
       "      <td>8</td>\n",
       "      <td>1</td>\n",
       "      <td>0</td>\n",
       "      <td>49</td>\n",
       "      <td>0</td>\n",
       "    </tr>\n",
       "    <tr>\n",
       "      <th>1</th>\n",
       "      <td>65141</td>\n",
       "      <td>Operations</td>\n",
       "      <td>region_22</td>\n",
       "      <td>Bachelor's</td>\n",
       "      <td>m</td>\n",
       "      <td>other</td>\n",
       "      <td>1</td>\n",
       "      <td>30</td>\n",
       "      <td>5.0</td>\n",
       "      <td>4</td>\n",
       "      <td>0</td>\n",
       "      <td>0</td>\n",
       "      <td>60</td>\n",
       "      <td>0</td>\n",
       "    </tr>\n",
       "    <tr>\n",
       "      <th>2</th>\n",
       "      <td>7513</td>\n",
       "      <td>Sales &amp; Marketing</td>\n",
       "      <td>region_19</td>\n",
       "      <td>Bachelor's</td>\n",
       "      <td>m</td>\n",
       "      <td>sourcing</td>\n",
       "      <td>1</td>\n",
       "      <td>34</td>\n",
       "      <td>3.0</td>\n",
       "      <td>7</td>\n",
       "      <td>0</td>\n",
       "      <td>0</td>\n",
       "      <td>50</td>\n",
       "      <td>0</td>\n",
       "    </tr>\n",
       "  </tbody>\n",
       "</table>\n",
       "</div>"
      ],
      "text/plain": [
       "   employee_id         department     region         education gender  \\\n",
       "0        65438  Sales & Marketing   region_7  Master's & above      f   \n",
       "1        65141         Operations  region_22        Bachelor's      m   \n",
       "2         7513  Sales & Marketing  region_19        Bachelor's      m   \n",
       "\n",
       "  recruitment_channel  no_of_trainings  age  previous_year_rating  \\\n",
       "0            sourcing                1   35                   5.0   \n",
       "1               other                1   30                   5.0   \n",
       "2            sourcing                1   34                   3.0   \n",
       "\n",
       "   length_of_service  KPIs_met >80%  awards_won?  avg_training_score  \\\n",
       "0                  8              1            0                  49   \n",
       "1                  4              0            0                  60   \n",
       "2                  7              0            0                  50   \n",
       "\n",
       "   is_promoted  \n",
       "0            0  \n",
       "1            0  \n",
       "2            0  "
      ]
     },
     "execution_count": 10,
     "metadata": {},
     "output_type": "execute_result"
    }
   ],
   "source": [
    "# Print the first few rows\n",
    "print('Head of the training data is :\\n')\n",
    "df.head(3)"
   ]
  },
  {
   "cell_type": "markdown",
   "metadata": {},
   "source": [
    "### Exploratory Data Analysis"
   ]
  },
  {
   "cell_type": "markdown",
   "metadata": {},
   "source": [
    "#### Department"
   ]
  },
  {
   "cell_type": "code",
   "execution_count": 11,
   "metadata": {
    "ExecuteTime": {
     "end_time": "2018-09-15T05:40:36.390620Z",
     "start_time": "2018-09-15T05:40:35.543617Z"
    }
   },
   "outputs": [
    {
     "data": {
      "image/png": "[encoded data removed]",
      "text/plain": [
       "<matplotlib.figure.Figure at 0x116797b00>"
      ]
     },
     "metadata": {},
     "output_type": "display_data"
    }
   ],
   "source": [
    "plot_dist(df, 'department', 'is_promoted')"
   ]
  },
  {
   "cell_type": "markdown",
   "metadata": {},
   "source": [
    "#### Region"
   ]
  },
  {
   "cell_type": "code",
   "execution_count": 12,
   "metadata": {
    "ExecuteTime": {
     "end_time": "2018-09-15T05:40:37.741371Z",
     "start_time": "2018-09-15T05:40:36.395211Z"
    }
   },
   "outputs": [
    {
     "data": {
      "image/png": "[encoded data removed]",
      "text/plain": [
       "<matplotlib.figure.Figure at 0x110e9acc0>"
      ]
     },
     "metadata": {},
     "output_type": "display_data"
    }
   ],
   "source": [
    "plot_dist(df, 'region', 'is_promoted')"
   ]
  },
  {
   "cell_type": "markdown",
   "metadata": {},
   "source": [
    "#### Education"
   ]
  },
  {
   "cell_type": "code",
   "execution_count": 13,
   "metadata": {
    "ExecuteTime": {
     "end_time": "2018-09-15T05:40:38.421796Z",
     "start_time": "2018-09-15T05:40:37.746972Z"
    }
   },
   "outputs": [
    {
     "data": {
      "image/png": "[encoded data removed]",
      "text/plain": [
       "<matplotlib.figure.Figure at 0x105d18dd8>"
      ]
     },
     "metadata": {},
     "output_type": "display_data"
    }
   ],
   "source": [
    "plot_dist(df, 'education', 'is_promoted')"
   ]
  },
  {
   "cell_type": "markdown",
   "metadata": {},
   "source": [
    "#### Gender"
   ]
  },
  {
   "cell_type": "code",
   "execution_count": 14,
   "metadata": {
    "ExecuteTime": {
     "end_time": "2018-09-15T05:40:39.034160Z",
     "start_time": "2018-09-15T05:40:38.426090Z"
    }
   },
   "outputs": [
    {
     "data": {
      "image/png": "[encoded data removed]",
      "text/plain": [
       "<matplotlib.figure.Figure at 0x11673dba8>"
      ]
     },
     "metadata": {},
     "output_type": "display_data"
    }
   ],
   "source": [
    "plot_dist(df, 'gender', 'is_promoted')"
   ]
  },
  {
   "cell_type": "markdown",
   "metadata": {},
   "source": [
    "#### Recruitment Channel"
   ]
  },
  {
   "cell_type": "code",
   "execution_count": 15,
   "metadata": {
    "ExecuteTime": {
     "end_time": "2018-09-15T05:40:39.777479Z",
     "start_time": "2018-09-15T05:40:39.039473Z"
    }
   },
   "outputs": [
    {
     "data": {
      "image/png": "[encoded data removed]",
      "text/plain": [
       "<matplotlib.figure.Figure at 0x1190b4e48>"
      ]
     },
     "metadata": {},
     "output_type": "display_data"
    }
   ],
   "source": [
    "plot_dist(df, 'recruitment_channel', 'is_promoted')"
   ]
  },
  {
   "cell_type": "markdown",
   "metadata": {},
   "source": [
    "#### No of Trainings"
   ]
  },
  {
   "cell_type": "code",
   "execution_count": 16,
   "metadata": {
    "ExecuteTime": {
     "end_time": "2018-09-15T05:40:40.464454Z",
     "start_time": "2018-09-15T05:40:39.782166Z"
    }
   },
   "outputs": [
    {
     "data": {
      "image/png": "[encoded data removed]",
      "text/plain": [
       "<matplotlib.figure.Figure at 0x1190ad2b0>"
      ]
     },
     "metadata": {},
     "output_type": "display_data"
    }
   ],
   "source": [
    "plot_dist(df, 'no_of_trainings', 'is_promoted')"
   ]
  },
  {
   "cell_type": "markdown",
   "metadata": {},
   "source": [
    "#### Age"
   ]
  },
  {
   "cell_type": "code",
   "execution_count": 17,
   "metadata": {
    "ExecuteTime": {
     "end_time": "2018-09-15T05:40:40.766428Z",
     "start_time": "2018-09-15T05:40:40.471330Z"
    }
   },
   "outputs": [
    {
     "data": {
      "image/png": "[encoded data removed]",
      "text/plain": [
       "<matplotlib.figure.Figure at 0x11925d550>"
      ]
     },
     "metadata": {},
     "output_type": "display_data"
    }
   ],
   "source": [
    "plot_dist(df, 'age', 'is_promoted', 'num')"
   ]
  },
  {
   "cell_type": "markdown",
   "metadata": {},
   "source": [
    "#### Previous Year Rating"
   ]
  },
  {
   "cell_type": "code",
   "execution_count": 18,
   "metadata": {
    "ExecuteTime": {
     "end_time": "2018-09-15T05:40:41.354240Z",
     "start_time": "2018-09-15T05:40:40.771597Z"
    }
   },
   "outputs": [
    {
     "data": {
      "image/png": "[encoded data removed]",
      "text/plain": [
       "<matplotlib.figure.Figure at 0x1167a44e0>"
      ]
     },
     "metadata": {},
     "output_type": "display_data"
    }
   ],
   "source": [
    "plot_dist(df, 'previous_year_rating', 'is_promoted')"
   ]
  },
  {
   "cell_type": "markdown",
   "metadata": {},
   "source": [
    "#### Length of Service"
   ]
  },
  {
   "cell_type": "code",
   "execution_count": 19,
   "metadata": {
    "ExecuteTime": {
     "end_time": "2018-09-15T05:40:41.661602Z",
     "start_time": "2018-09-15T05:40:41.358628Z"
    }
   },
   "outputs": [
    {
     "data": {
      "image/png": "[encoded data removed]",
      "text/plain": [
       "<matplotlib.figure.Figure at 0x117276240>"
      ]
     },
     "metadata": {},
     "output_type": "display_data"
    }
   ],
   "source": [
    "plot_dist(df, 'length_of_service', 'is_promoted', 'num')"
   ]
  },
  {
   "cell_type": "markdown",
   "metadata": {},
   "source": [
    "#### KPIs met > 80%?"
   ]
  },
  {
   "cell_type": "code",
   "execution_count": 20,
   "metadata": {
    "ExecuteTime": {
     "end_time": "2018-09-15T05:40:42.200932Z",
     "start_time": "2018-09-15T05:40:41.668899Z"
    }
   },
   "outputs": [
    {
     "data": {
      "image/png": "[encoded data removed]",
      "text/plain": [
       "<matplotlib.figure.Figure at 0x116c44a20>"
      ]
     },
     "metadata": {},
     "output_type": "display_data"
    }
   ],
   "source": [
    "plot_dist(df, 'KPIs_met >80%', 'is_promoted')"
   ]
  },
  {
   "cell_type": "markdown",
   "metadata": {},
   "source": [
    "#### Awards Won"
   ]
  },
  {
   "cell_type": "code",
   "execution_count": 21,
   "metadata": {
    "ExecuteTime": {
     "end_time": "2018-09-15T05:40:42.712654Z",
     "start_time": "2018-09-15T05:40:42.205515Z"
    }
   },
   "outputs": [
    {
     "data": {
      "image/png": "[encoded data removed]",
      "text/plain": [
       "<matplotlib.figure.Figure at 0x118da3710>"
      ]
     },
     "metadata": {},
     "output_type": "display_data"
    }
   ],
   "source": [
    "plot_dist(df, 'awards_won?', 'is_promoted')"
   ]
  },
  {
   "cell_type": "markdown",
   "metadata": {},
   "source": [
    "#### Average Training Score"
   ]
  },
  {
   "cell_type": "code",
   "execution_count": 22,
   "metadata": {
    "ExecuteTime": {
     "end_time": "2018-09-15T05:40:43.001742Z",
     "start_time": "2018-09-15T05:40:42.717455Z"
    }
   },
   "outputs": [
    {
     "data": {
      "image/png": "[encoded data removed]",
      "text/plain": [
       "<matplotlib.figure.Figure at 0x11951ab00>"
      ]
     },
     "metadata": {},
     "output_type": "display_data"
    }
   ],
   "source": [
    "plot_dist(df, 'avg_training_score', 'is_promoted', 'num')"
   ]
  },
  {
   "cell_type": "markdown",
   "metadata": {},
   "source": [
    "### Data Manipulation"
   ]
  },
  {
   "cell_type": "code",
   "execution_count": 23,
   "metadata": {
    "ExecuteTime": {
     "end_time": "2018-09-15T05:40:43.017118Z",
     "start_time": "2018-09-15T05:40:43.005599Z"
    }
   },
   "outputs": [],
   "source": [
    "# Categortical columns\n",
    "cat_cols = ['department', \n",
    "            'region', \n",
    "            'education', \n",
    "            'gender', \n",
    "            'recruitment_channel', \n",
    "            'previous_year_rating', \n",
    "            'KPIs_met >80%', \n",
    "            'awards_won?']\n",
    "\n",
    "# Numerical columns\n",
    "num_cols = ['no_of_trainings', \n",
    "            'age', \n",
    "            'length_of_service', \n",
    "            'avg_training_score']\n",
    "\n",
    "# Target columns\n",
    "target_cols = ['employee_id', 'is_promoted']"
   ]
  },
  {
   "cell_type": "markdown",
   "metadata": {},
   "source": [
    "#### Dummify categorical variables"
   ]
  },
  {
   "cell_type": "code",
   "execution_count": 24,
   "metadata": {
    "ExecuteTime": {
     "end_time": "2018-09-15T05:40:43.138256Z",
     "start_time": "2018-09-15T05:40:43.023779Z"
    }
   },
   "outputs": [],
   "source": [
    "# Dummify data \n",
    "df = pd.get_dummies(data=df, columns=cat_cols, dummy_na=True, drop_first=True)\n",
    "validation = pd.get_dummies(data=validation, columns=cat_cols, dummy_na=True, drop_first=True)"
   ]
  },
  {
   "cell_type": "code",
   "execution_count": 25,
   "metadata": {
    "ExecuteTime": {
     "end_time": "2018-09-15T05:40:43.152631Z",
     "start_time": "2018-09-15T05:40:43.142099Z"
    }
   },
   "outputs": [
    {
     "name": "stdout",
     "output_type": "stream",
     "text": [
      "Shape of the training data is : (54808, 66)\n",
      "Shape of the validation data is : (23490, 65)\n"
     ]
    }
   ],
   "source": [
    "# Print the dimensions\n",
    "print('Shape of the training data is :', df.shape)\n",
    "print('Shape of the validation data is :', validation.shape)"
   ]
  },
  {
   "cell_type": "code",
   "execution_count": 26,
   "metadata": {
    "ExecuteTime": {
     "end_time": "2018-09-15T05:40:43.199972Z",
     "start_time": "2018-09-15T05:40:43.158362Z"
    }
   },
   "outputs": [
    {
     "name": "stdout",
     "output_type": "stream",
     "text": [
      "Head of the dataframe is :\n",
      "\n"
     ]
    },
    {
     "data": {
      "text/html": [
       "<div>\n",
       "<style scoped>\n",
       "    .dataframe tbody tr th:only-of-type {\n",
       "        vertical-align: middle;\n",
       "    }\n",
       "\n",
       "    .dataframe tbody tr th {\n",
       "        vertical-align: top;\n",
       "    }\n",
       "\n",
       "    .dataframe thead th {\n",
       "        text-align: right;\n",
       "    }\n",
       "</style>\n",
       "<table border=\"1\" class=\"dataframe\">\n",
       "  <thead>\n",
       "    <tr style=\"text-align: right;\">\n",
       "      <th></th>\n",
       "      <th>employee_id</th>\n",
       "      <th>no_of_trainings</th>\n",
       "      <th>age</th>\n",
       "      <th>length_of_service</th>\n",
       "      <th>avg_training_score</th>\n",
       "      <th>is_promoted</th>\n",
       "      <th>department_Finance</th>\n",
       "      <th>department_HR</th>\n",
       "      <th>department_Legal</th>\n",
       "      <th>department_Operations</th>\n",
       "      <th>...</th>\n",
       "      <th>recruitment_channel_nan</th>\n",
       "      <th>previous_year_rating_2.0</th>\n",
       "      <th>previous_year_rating_3.0</th>\n",
       "      <th>previous_year_rating_4.0</th>\n",
       "      <th>previous_year_rating_5.0</th>\n",
       "      <th>previous_year_rating_nan</th>\n",
       "      <th>KPIs_met &gt;80%_1.0</th>\n",
       "      <th>KPIs_met &gt;80%_nan</th>\n",
       "      <th>awards_won?_1.0</th>\n",
       "      <th>awards_won?_nan</th>\n",
       "    </tr>\n",
       "  </thead>\n",
       "  <tbody>\n",
       "    <tr>\n",
       "      <th>0</th>\n",
       "      <td>65438</td>\n",
       "      <td>1</td>\n",
       "      <td>35</td>\n",
       "      <td>8</td>\n",
       "      <td>49</td>\n",
       "      <td>0</td>\n",
       "      <td>0</td>\n",
       "      <td>0</td>\n",
       "      <td>0</td>\n",
       "      <td>0</td>\n",
       "      <td>...</td>\n",
       "      <td>0</td>\n",
       "      <td>0</td>\n",
       "      <td>0</td>\n",
       "      <td>0</td>\n",
       "      <td>1</td>\n",
       "      <td>0</td>\n",
       "      <td>1</td>\n",
       "      <td>0</td>\n",
       "      <td>0</td>\n",
       "      <td>0</td>\n",
       "    </tr>\n",
       "    <tr>\n",
       "      <th>1</th>\n",
       "      <td>65141</td>\n",
       "      <td>1</td>\n",
       "      <td>30</td>\n",
       "      <td>4</td>\n",
       "      <td>60</td>\n",
       "      <td>0</td>\n",
       "      <td>0</td>\n",
       "      <td>0</td>\n",
       "      <td>0</td>\n",
       "      <td>1</td>\n",
       "      <td>...</td>\n",
       "      <td>0</td>\n",
       "      <td>0</td>\n",
       "      <td>0</td>\n",
       "      <td>0</td>\n",
       "      <td>1</td>\n",
       "      <td>0</td>\n",
       "      <td>0</td>\n",
       "      <td>0</td>\n",
       "      <td>0</td>\n",
       "      <td>0</td>\n",
       "    </tr>\n",
       "    <tr>\n",
       "      <th>2</th>\n",
       "      <td>7513</td>\n",
       "      <td>1</td>\n",
       "      <td>34</td>\n",
       "      <td>7</td>\n",
       "      <td>50</td>\n",
       "      <td>0</td>\n",
       "      <td>0</td>\n",
       "      <td>0</td>\n",
       "      <td>0</td>\n",
       "      <td>0</td>\n",
       "      <td>...</td>\n",
       "      <td>0</td>\n",
       "      <td>0</td>\n",
       "      <td>1</td>\n",
       "      <td>0</td>\n",
       "      <td>0</td>\n",
       "      <td>0</td>\n",
       "      <td>0</td>\n",
       "      <td>0</td>\n",
       "      <td>0</td>\n",
       "      <td>0</td>\n",
       "    </tr>\n",
       "  </tbody>\n",
       "</table>\n",
       "<p>3 rows × 66 columns</p>\n",
       "</div>"
      ],
      "text/plain": [
       "   employee_id  no_of_trainings  age  length_of_service  avg_training_score  \\\n",
       "0        65438                1   35                  8                  49   \n",
       "1        65141                1   30                  4                  60   \n",
       "2         7513                1   34                  7                  50   \n",
       "\n",
       "   is_promoted  department_Finance  department_HR  department_Legal  \\\n",
       "0            0                   0              0                 0   \n",
       "1            0                   0              0                 0   \n",
       "2            0                   0              0                 0   \n",
       "\n",
       "   department_Operations       ...         recruitment_channel_nan  \\\n",
       "0                      0       ...                               0   \n",
       "1                      1       ...                               0   \n",
       "2                      0       ...                               0   \n",
       "\n",
       "   previous_year_rating_2.0  previous_year_rating_3.0  \\\n",
       "0                         0                         0   \n",
       "1                         0                         0   \n",
       "2                         0                         1   \n",
       "\n",
       "   previous_year_rating_4.0  previous_year_rating_5.0  \\\n",
       "0                         0                         1   \n",
       "1                         0                         1   \n",
       "2                         0                         0   \n",
       "\n",
       "   previous_year_rating_nan  KPIs_met >80%_1.0  KPIs_met >80%_nan  \\\n",
       "0                         0                  1                  0   \n",
       "1                         0                  0                  0   \n",
       "2                         0                  0                  0   \n",
       "\n",
       "   awards_won?_1.0  awards_won?_nan  \n",
       "0                0                0  \n",
       "1                0                0  \n",
       "2                0                0  \n",
       "\n",
       "[3 rows x 66 columns]"
      ]
     },
     "execution_count": 26,
     "metadata": {},
     "output_type": "execute_result"
    }
   ],
   "source": [
    "# Print the first few rows\n",
    "print('Head of the dataframe is :\\n')\n",
    "df.head(3)"
   ]
  },
  {
   "cell_type": "markdown",
   "metadata": {},
   "source": [
    "#### Divide into train and test"
   ]
  },
  {
   "cell_type": "code",
   "execution_count": 27,
   "metadata": {
    "ExecuteTime": {
     "end_time": "2018-09-15T05:40:43.230579Z",
     "start_time": "2018-09-15T05:40:43.203918Z"
    }
   },
   "outputs": [],
   "source": [
    "X = df.copy().drop(target_cols, axis=1)\n",
    "y = df[target_cols]"
   ]
  },
  {
   "cell_type": "code",
   "execution_count": 28,
   "metadata": {
    "ExecuteTime": {
     "end_time": "2018-09-15T05:40:43.274630Z",
     "start_time": "2018-09-15T05:40:43.234965Z"
    }
   },
   "outputs": [],
   "source": [
    "X_train, X_test, y_train, y_test = train_test_split(X, y, test_size=0.2, random_state=1)\n",
    "X_train = X_train.reset_index(drop=True)\n",
    "X_test = X_test.reset_index(drop=True)\n",
    "y_train = y_train.reset_index(drop=True)\n",
    "y_test = y_test.reset_index(drop=True)"
   ]
  },
  {
   "cell_type": "code",
   "execution_count": 29,
   "metadata": {
    "ExecuteTime": {
     "end_time": "2018-09-15T05:40:43.300257Z",
     "start_time": "2018-09-15T05:40:43.283174Z"
    }
   },
   "outputs": [],
   "source": [
    "X_valid = validation.copy().drop('employee_id', axis=1)"
   ]
  },
  {
   "cell_type": "code",
   "execution_count": 30,
   "metadata": {
    "ExecuteTime": {
     "end_time": "2018-09-15T05:40:43.314774Z",
     "start_time": "2018-09-15T05:40:43.304368Z"
    }
   },
   "outputs": [
    {
     "name": "stdout",
     "output_type": "stream",
     "text": [
      "Shape of X_train :  (43846, 64)\n",
      "Shape of X_test :  (10962, 64)\n",
      "Shape of y_train :  (43846, 2)\n",
      "Shape of y_test :  (10962, 2)\n"
     ]
    }
   ],
   "source": [
    "print('Shape of X_train : ', X_train.shape)\n",
    "print('Shape of X_test : ', X_test.shape)\n",
    "print('Shape of y_train : ', y_train.shape)\n",
    "print('Shape of y_test : ', y_test.shape)"
   ]
  },
  {
   "cell_type": "markdown",
   "metadata": {},
   "source": [
    "#### Scale numerical columns"
   ]
  },
  {
   "cell_type": "code",
   "execution_count": 31,
   "metadata": {
    "ExecuteTime": {
     "end_time": "2018-09-15T05:40:43.369013Z",
     "start_time": "2018-09-15T05:40:43.319931Z"
    }
   },
   "outputs": [],
   "source": [
    "for i in num_cols:\n",
    "    mean = X_train[i].mean()\n",
    "    std = X_train[i].std()\n",
    "    X_train[i] = X_train[i].swifter.apply(lambda x : ((x-mean)/std))\n",
    "    X_test[i] = X_test[i].swifter.apply(lambda x : ((x-mean)/std))\n",
    "    X_valid[i] = X_valid[i].swifter.apply(lambda x : ((x-mean)/std))"
   ]
  },
  {
   "cell_type": "markdown",
   "metadata": {},
   "source": [
    "### Modelling"
   ]
  },
  {
   "cell_type": "code",
   "execution_count": 32,
   "metadata": {
    "ExecuteTime": {
     "end_time": "2018-09-15T05:41:43.413326Z",
     "start_time": "2018-09-15T05:40:43.372913Z"
    }
   },
   "outputs": [
    {
     "name": "stdout",
     "output_type": "stream",
     "text": [
      "[########################################] | 100% Completed | 60.0s\n"
     ]
    }
   ],
   "source": [
    "params = dict(C=[0.001, 0.01, 0.1, 1, 10, 100, 1000], \n",
    "              penalty=['l1', 'l2'])\n",
    "# Fit for train\n",
    "model = LogisticRegression(class_weight='balanced', random_state=1)\n",
    "grid = GridSearchCV(model, \n",
    "                    params, \n",
    "                    n_jobs=-1, \n",
    "                    cv=5, \n",
    "                    scoring='f1')\n",
    "\n",
    "with parallel_backend('dask.distributed', client):\n",
    "    with ProgressBar():\n",
    "        grid.fit(X_train, y_train['is_promoted'])"
   ]
  },
  {
   "cell_type": "code",
   "execution_count": 33,
   "metadata": {
    "ExecuteTime": {
     "end_time": "2018-09-15T05:41:43.427771Z",
     "start_time": "2018-09-15T05:41:43.418349Z"
    }
   },
   "outputs": [
    {
     "data": {
      "text/plain": [
       "['../models/lr_f1.pickle']"
      ]
     },
     "execution_count": 33,
     "metadata": {},
     "output_type": "execute_result"
    }
   ],
   "source": [
    "joblib.dump(model, '../models/lr_f1.pickle')"
   ]
  },
  {
   "cell_type": "markdown",
   "metadata": {},
   "source": [
    "### Model Evaluation"
   ]
  },
  {
   "cell_type": "code",
   "execution_count": 34,
   "metadata": {
    "ExecuteTime": {
     "end_time": "2018-09-15T05:41:43.440886Z",
     "start_time": "2018-09-15T05:41:43.434350Z"
    }
   },
   "outputs": [],
   "source": [
    "model = grid.best_estimator_"
   ]
  },
  {
   "cell_type": "code",
   "execution_count": 35,
   "metadata": {
    "ExecuteTime": {
     "end_time": "2018-09-15T05:41:43.476855Z",
     "start_time": "2018-09-15T05:41:43.446021Z"
    }
   },
   "outputs": [],
   "source": [
    "# Training predictions\n",
    "train_pred = model.predict(X_train)\n",
    "\n",
    "# Testing predictions\n",
    "test_pred = model.predict(X_test)"
   ]
  },
  {
   "cell_type": "markdown",
   "metadata": {},
   "source": [
    "#### Accuracy Score"
   ]
  },
  {
   "cell_type": "code",
   "execution_count": 36,
   "metadata": {
    "ExecuteTime": {
     "end_time": "2018-09-15T05:41:43.496001Z",
     "start_time": "2018-09-15T05:41:43.480453Z"
    }
   },
   "outputs": [
    {
     "name": "stdout",
     "output_type": "stream",
     "text": [
      "Accuracy score for Train data is :  0.7740956985813985\n",
      "Accuracy score for Test data is :  0.7699324940704251\n"
     ]
    }
   ],
   "source": [
    "# Accuracy Score\n",
    "print('Accuracy score for Train data is : ',\n",
    "      accuracy_score(y_train['is_promoted'], train_pred))\n",
    "print('Accuracy score for Test data is : ',\n",
    "      accuracy_score(y_test['is_promoted'], test_pred))"
   ]
  },
  {
   "cell_type": "markdown",
   "metadata": {},
   "source": [
    "#### Classification Report"
   ]
  },
  {
   "cell_type": "code",
   "execution_count": 37,
   "metadata": {
    "ExecuteTime": {
     "end_time": "2018-09-15T05:41:43.535332Z",
     "start_time": "2018-09-15T05:41:43.500098Z"
    }
   },
   "outputs": [
    {
     "name": "stdout",
     "output_type": "stream",
     "text": [
      "\n",
      "Classification report for Train data is : \n",
      "              precision    recall  f1-score   support\n",
      "\n",
      "          0       0.98      0.77      0.86     40121\n",
      "          1       0.25      0.82      0.38      3725\n",
      "\n",
      "avg / total       0.92      0.77      0.82     43846\n",
      "\n",
      "Classification report for Test data is : \n",
      "              precision    recall  f1-score   support\n",
      "\n",
      "          0       0.98      0.77      0.86     10019\n",
      "          1       0.25      0.82      0.38       943\n",
      "\n",
      "avg / total       0.92      0.77      0.82     10962\n",
      "\n"
     ]
    }
   ],
   "source": [
    "# Classification Report\n",
    "print('\\nClassification report for Train data is : \\n',\n",
    "      classification_report(y_train['is_promoted'], train_pred))\n",
    "print('Classification report for Test data is : \\n',\n",
    "      classification_report(y_test['is_promoted'], test_pred))"
   ]
  },
  {
   "cell_type": "markdown",
   "metadata": {},
   "source": [
    "#### ROC-AUC"
   ]
  },
  {
   "cell_type": "code",
   "execution_count": 38,
   "metadata": {
    "ExecuteTime": {
     "end_time": "2018-09-15T05:41:44.057882Z",
     "start_time": "2018-09-15T05:41:43.540303Z"
    }
   },
   "outputs": [
    {
     "name": "stdout",
     "output_type": "stream",
     "text": [
      "Train AUC =  0.8822382025915231\n",
      "Test AUC =  0.875776004382765\n"
     ]
    },
    {
     "data": {
      "image/png": "[encoded data removed]",
      "text/plain": [
       "<matplotlib.figure.Figure at 0x110fdba90>"
      ]
     },
     "metadata": {},
     "output_type": "display_data"
    }
   ],
   "source": [
    "# ROC-AUC\n",
    "plt.subplots(figsize=(10, 5))\n",
    "train_prob = model.predict_proba(X_train)[:, 1]\n",
    "test_prob = model.predict_proba(X_test)[:, 1]\n",
    "plot_roc_curve(y_train['is_promoted'], train_prob,\n",
    "                    y_test['is_promoted'], test_prob)"
   ]
  },
  {
   "cell_type": "markdown",
   "metadata": {},
   "source": [
    "#### Confusion Matrix"
   ]
  },
  {
   "cell_type": "code",
   "execution_count": 39,
   "metadata": {
    "ExecuteTime": {
     "end_time": "2018-09-15T05:41:45.035559Z",
     "start_time": "2018-09-15T05:41:44.062045Z"
    }
   },
   "outputs": [
    {
     "data": {
      "image/png": "[encoded data removed]",
      "text/plain": [
       "<matplotlib.figure.Figure at 0x125674320>"
      ]
     },
     "metadata": {},
     "output_type": "display_data"
    },
    {
     "data": {
      "image/png": "[encoded data removed]",
      "text/plain": [
       "<matplotlib.figure.Figure at 0x10f47eda0>"
      ]
     },
     "metadata": {},
     "output_type": "display_data"
    }
   ],
   "source": [
    "# Confusion matrices\n",
    "plt.subplots(figsize=(10,5))\n",
    "plot_confusion_matrix(confusion_matrix(\n",
    "    y_train['is_promoted'], train_pred), normalize=False)\n",
    "\n",
    "plt.subplots(figsize=(10,5))\n",
    "plot_confusion_matrix(confusion_matrix(\n",
    "    y_test['is_promoted'], test_pred), normalize=False)"
   ]
  },
  {
   "cell_type": "markdown",
   "metadata": {},
   "source": [
    "#### Model Scoring"
   ]
  },
  {
   "cell_type": "code",
   "execution_count": 40,
   "metadata": {
    "ExecuteTime": {
     "end_time": "2018-09-15T05:41:45.059854Z",
     "start_time": "2018-09-15T05:41:45.039276Z"
    }
   },
   "outputs": [],
   "source": [
    "predictions = model.predict(X_valid)"
   ]
  },
  {
   "cell_type": "code",
   "execution_count": 41,
   "metadata": {
    "ExecuteTime": {
     "end_time": "2018-09-15T05:41:45.228746Z",
     "start_time": "2018-09-15T05:41:45.066313Z"
    }
   },
   "outputs": [],
   "source": [
    "emp_ids = validation['employee_id'].tolist()\n",
    "results = pd.DataFrame({'employee_id' : emp_ids, 'is_promoted' : predictions})\n",
    "results.to_csv('../data/processed/submission.csv', index=None)"
   ]
  }
 ],
 "metadata": {
  "kernelspec": {
   "display_name": "Python 3",
   "language": "python",
   "name": "python3"
  },
  "language_info": {
   "codemirror_mode": {
    "name": "ipython",
    "version": 3
   },
   "file_extension": ".py",
   "mimetype": "text/x-python",
   "name": "python",
   "nbconvert_exporter": "python",
   "pygments_lexer": "ipython3",
   "version": "3.6.2"
  },
  "toc": {
   "base_numbering": 1,
   "nav_menu": {},
   "number_sections": true,
   "sideBar": true,
   "skip_h1_title": true,
   "title_cell": "Table of Contents",
   "title_sidebar": "Contents",
   "toc_cell": true,
   "toc_position": {},
   "toc_section_display": true,
   "toc_window_display": true
  }
 },
 "nbformat": 4,
 "nbformat_minor": 2
}
